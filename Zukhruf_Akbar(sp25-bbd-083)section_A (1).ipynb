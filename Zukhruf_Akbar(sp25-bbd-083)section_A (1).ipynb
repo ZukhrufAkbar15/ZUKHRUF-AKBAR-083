{
 "cells": [
  {
   "cell_type": "code",
   "execution_count": 1,
   "id": "456dcff4-689d-437c-a37c-34730141cca4",
   "metadata": {},
   "outputs": [
    {
     "name": "stdout",
     "output_type": "stream",
     "text": [
      "Movie Titles:\n",
      "Inception\n",
      "The Dark Knight\n",
      "Interstellar\n",
      "The Matrix\n",
      "Pulp Fiction\n",
      "\n",
      "Movie Titles with Index:\n",
      "0: Inception\n",
      "1: The Dark Knight\n",
      "2: Interstellar\n",
      "3: The Matrix\n",
      "4: Pulp Fiction\n"
     ]
    }
   ],
   "source": [
    "# List Iteration:\n",
    "favorite_movies = [\"Inception\", \"The Dark Knight\", \"Interstellar\", \"The Matrix\", \"Pulp Fiction\"]\n",
    "print(\"Movie Titles:\")\n",
    "for movie in favorite_movies:\n",
    "    print(movie)\n",
    "print(\"\\nMovie Titles with Index:\")\n",
    "index = 0  # Initialize the index\n",
    "for movie in favorite_movies:\n",
    "    print(f\"{index}: {movie}\")\n",
    "    index += 1  # Increment the index "
   ]
  },
  {
   "cell_type": "code",
   "execution_count": 3,
   "id": "bb8831db-f115-468a-948e-7441a920e502",
   "metadata": {},
   "outputs": [
    {
     "name": "stdout",
     "output_type": "stream",
     "text": [
      "Characters in the string:\n",
      "Z\n",
      "u\n",
      "k\n",
      "h\n",
      "r\n",
      "u\n",
      "f\n",
      " \n",
      "A\n",
      "k\n",
      "b\n",
      "a\n",
      "r\n",
      "\n",
      "Number of vowels in the string: 4\n"
     ]
    }
   ],
   "source": [
    "# String Iteration:\n",
    "full_name = \"Zukhruf Akbar\"\n",
    "print(\"Characters in the string:\")\n",
    "for char in full_name:\n",
    "    print(char)\n",
    "vowels = \"aeiouAEIOU\"  \n",
    "vowel_count = 0  \n",
    "\n",
    "for char in full_name:\n",
    "    if char in vowels:\n",
    "        vowel_count += 1  \n",
    "print(f\"\\nNumber of vowels in the string: {vowel_count}\")"
   ]
  },
  {
   "cell_type": "code",
   "execution_count": 5,
   "id": "abe3495b-8af4-4877-9c49-92d232c3e9dd",
   "metadata": {},
   "outputs": [
    {
     "name": "stdout",
     "output_type": "stream",
     "text": [
      "Student Grades:\n",
      "Alice: 95\n",
      "Bob: 88\n",
      "Charlie: 72\n",
      "Diana: 91\n",
      "Eve: 85\n",
      "\n",
      "The student with the highest grade is Alice with a grade of 95.\n"
     ]
    }
   ],
   "source": [
    "# Dictionary Iteration:\n",
    "student_grades = {\n",
    "    \"Alice\": 95,\n",
    "    \"Bob\": 88,\n",
    "    \"Charlie\": 72,\n",
    "    \"Diana\": 91,\n",
    "    \"Eve\": 85\n",
    "}\n",
    "\n",
    "print(\"Student Grades:\")\n",
    "for student, grade in student_grades.items():\n",
    "    print(f\"{student}: {grade}\")\n",
    "highest_grade = -1 \n",
    "top_student = \"\"  \n",
    "\n",
    "for student, grade in student_grades.items():\n",
    "    if grade > highest_grade:\n",
    "        highest_grade = grade\n",
    "        top_student = student\n",
    "\n",
    "print(f\"\\nThe student with the highest grade is {top_student} with a grade of {highest_grade}.\")"
   ]
  },
  {
   "cell_type": "code",
   "execution_count": 7,
   "id": "5103bb0e-b679-43ca-89f7-ccd466e359f3",
   "metadata": {},
   "outputs": [
    {
     "name": "stdout",
     "output_type": "stream",
     "text": [
      "Matrix Elements:\n",
      "1 2 3 \n",
      "4 5 6 \n",
      "7 8 9 \n",
      "\n",
      "Sum of all elements in the matrix: 45\n"
     ]
    }
   ],
   "source": [
    "# Nested For Loops:\n",
    "matrix = [\n",
    "    [1, 2, 3],\n",
    "    [4, 5, 6],\n",
    "    [7, 8, 9]\n",
    "]\n",
    "print(\"Matrix Elements:\")\n",
    "for row in matrix: \n",
    "    for element in row:  \n",
    "        print(element, end=\" \") \n",
    "    print()  \n",
    "total_sum = 0  \n",
    "for row in matrix:\n",
    "    for element in row:\n",
    "        total_sum += element  \n",
    "\n",
    "print(f\"\\nSum of all elements in the matrix: {total_sum}\")"
   ]
  },
  {
   "cell_type": "code",
   "execution_count": 9,
   "id": "46d175e5-1fda-4aa5-89d1-3eeab6131fad",
   "metadata": {},
   "outputs": [
    {
     "name": "stdout",
     "output_type": "stream",
     "text": [
      "Squares using for loop: [1, 4, 9, 16, 25, 36, 49, 64, 81, 100]\n"
     ]
    }
   ],
   "source": [
    "# \n",
    "squares = []\n",
    "for num in range(1, 11): \n",
    "    squares.append(num**2)  \n",
    "\n",
    "print(\"Squares using for loop:\", squares)"
   ]
  },
  {
   "cell_type": "code",
   "execution_count": null,
   "id": "40415a33-aa4c-4b02-bfff-c5c9aff78c46",
   "metadata": {},
   "outputs": [],
   "source": []
  }
 ],
 "metadata": {
  "kernelspec": {
   "display_name": "Python [conda env:base] *",
   "language": "python",
   "name": "conda-base-py"
  },
  "language_info": {
   "codemirror_mode": {
    "name": "ipython",
    "version": 3
   },
   "file_extension": ".py",
   "mimetype": "text/x-python",
   "name": "python",
   "nbconvert_exporter": "python",
   "pygments_lexer": "ipython3",
   "version": "3.12.7"
  }
 },
 "nbformat": 4,
 "nbformat_minor": 5
}
